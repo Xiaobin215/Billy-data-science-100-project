{
 "cells": [
  {
   "cell_type": "markdown",
   "id": "0d8acd4e-72f9-4ad4-bd37-a4450f706a51",
   "metadata": {},
   "source": [
    "title"
   ]
  }
 ],
 "metadata": {
  "kernelspec": {
   "display_name": "R",
   "language": "R",
   "name": "ir"
  },
  "language_info": {
   "codemirror_mode": "r",
   "file_extension": ".r",
   "mimetype": "text/x-r-source",
   "name": "R",
   "pygments_lexer": "r",
   "version": "4.3.1"
  }
 },
 "nbformat": 4,
 "nbformat_minor": 5
}
